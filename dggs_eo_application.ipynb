{
 "cells": [
  {
   "cell_type": "markdown",
   "id": "6bd0c9fb",
   "metadata": {},
   "source": [
    "# Application to Earth Observation Data\n",
    "\n",
    "## What to include:\n",
    "- **Show how DGGS is applied to EO data:**\n",
    "  - Steps for transforming EO raster or vector data into DGGS cells\n",
    "- **Example dataset:**\n",
    "  - Use a sample Sentinel, MODIS, or similar EO product (or a synthetic/mock array for demonstration)\n",
    "- **Efficient storage formats:**\n",
    "  - Introduce Zarr or similar scalable formats\n",
    "- **Hands-on code:**\n",
    "  - Example code loading a dataset, converting to DGGS, writing/reading as Zarr\n",
    "\n",
    "## Suggestions:\n",
    "- Use Xarray + Zarr if possible for handling data.\n",
    "- Visualize the mapping from geolocated points to DGGS cells."
   ]
  }
 ],
 "metadata": {},
 "nbformat": 4,
 "nbformat_minor": 5
}
